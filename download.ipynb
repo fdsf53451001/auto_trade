{
 "cells": [
  {
   "cell_type": "code",
   "execution_count": 245,
   "metadata": {},
   "outputs": [],
   "source": [
    "import requests\n",
    "import matplotlib.pyplot as plt\n",
    "# from dataprep.eda import *\n",
    "import pandas as pd\n",
    "import time \n",
    "import numpy as np\n",
    "import sqlite3"
   ]
  },
  {
   "cell_type": "code",
   "execution_count": 246,
   "metadata": {},
   "outputs": [],
   "source": [
    "conn = sqlite3.connect('data/crypto.db') # ~代表路徑\n",
    "c = conn.cursor()"
   ]
  },
  {
   "cell_type": "code",
   "execution_count": 247,
   "metadata": {},
   "outputs": [],
   "source": [
    "def datetime_to_timestamp(t0):\n",
    "    t0 = [str(n) for n in t0]\n",
    "    t = t0[0]+'-'+t0[1]+'-'+t0[2]+' '+t0[3]+':'+t0[4]+':'+'00'\n",
    "    t = time.strptime(t, \"%Y-%m-%d %H:%M:%S\")\n",
    "    t = int(time.mktime(t))\n",
    "    t *= 1000 # to mili sec\n",
    "    return t"
   ]
  },
  {
   "cell_type": "code",
   "execution_count": 248,
   "metadata": {},
   "outputs": [],
   "source": [
    "def download_from_binance(t0,coin='BTCUSDT'):\n",
    "    # t0 = [str(n) for n in t0]\n",
    "    # time format : \"2022-07-01 00:00:00\"\n",
    "    # time_start = t0[0]+'-'+t0[1]+'-'+t0[2]+' '+t0[3]+':'+t0[4]+':'+'00'\n",
    "    # time_start = time.strptime(time_start, \"%Y-%m-%d %H:%M:%S\")\n",
    "    # time_start = int(time.mktime(time_start))\n",
    "    # time_start *= 1000 # to mili sec\n",
    "\n",
    "    arug = {'symbol':coin, 'interval':'1h','startTime':t0,'limit':1000}\n",
    "    resp = requests.get('https://api.binance.com/api/v3/klines', params=arug)\n",
    "    # print(resp.status_code)\n",
    "    data = resp.json()\n",
    "    df = pd.DataFrame(data).astype(float)\n",
    "    return df"
   ]
  },
  {
   "cell_type": "code",
   "execution_count": 249,
   "metadata": {},
   "outputs": [],
   "source": [
    "def save_to_sqlite(conn, c, coin, df):\n",
    "    s, e = 0, 0\n",
    "    for _, row in df.iterrows():\n",
    "        try:\n",
    "            c.execute('INSERT INTO crypto VALUES '+str((coin, row[0], row[1], row[4], row[5])))\n",
    "            s += 1\n",
    "        except sqlite3.Error as err:\n",
    "            c.execute('UPDATE crypto SET open={}, close={}, volume={} WHERE name=\"{}\" AND time={}'.format(row[1], row[4], row[5], coin, row[0]))\n",
    "            e += 1\n",
    "    # print('ADD',s,'UPDATE',e)\n",
    "    conn.commit()\n",
    "    return (s,e)"
   ]
  },
  {
   "cell_type": "code",
   "execution_count": 250,
   "metadata": {},
   "outputs": [],
   "source": [
    "def loop_update_price(coin, start_time):\n",
    "    start_time = datetime_to_timestamp(start_time)\n",
    "    request_count = 0\n",
    "    st, et = 0, 0\n",
    "    while True:\n",
    "        df = download_from_binance(start_time,coin)\n",
    "        if len(df)==0:\n",
    "            break\n",
    "        (s,e) = save_to_sqlite(conn, c, coin, df)\n",
    "        start_time = int(df.iloc[-1].values[0])+1\n",
    "        st += s\n",
    "        et += e\n",
    "        request_count += 1\n",
    "    return (st, et, request_count)\n",
    "    "
   ]
  },
  {
   "cell_type": "code",
   "execution_count": 251,
   "metadata": {},
   "outputs": [
    {
     "name": "stdout",
     "output_type": "stream",
     "text": [
      "ADD 46849 UPDATE 0 with requests : 47\n"
     ]
    }
   ],
   "source": [
    "coin = 'ETHUSDT'\n",
    "start_time = (2000,1,1,0,0)\n",
    "(s,e,request_count) = loop_update_price(coin, start_time)\n",
    "print('ADD',s,'UPDATE',e,'with requests :',request_count)"
   ]
  }
 ],
 "metadata": {
  "kernelspec": {
   "display_name": "Python 3",
   "language": "python",
   "name": "python3"
  },
  "language_info": {
   "codemirror_mode": {
    "name": "ipython",
    "version": 3
   },
   "file_extension": ".py",
   "mimetype": "text/x-python",
   "name": "python",
   "nbconvert_exporter": "python",
   "pygments_lexer": "ipython3",
   "version": "3.9.7"
  },
  "orig_nbformat": 4,
  "vscode": {
   "interpreter": {
    "hash": "c93a216e4ed3772008dccc8fd7e37559c81d894a7dd81cd71384d65f646c0a45"
   }
  }
 },
 "nbformat": 4,
 "nbformat_minor": 2
}
