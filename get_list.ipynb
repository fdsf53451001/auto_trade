{
 "cells": [
  {
   "cell_type": "code",
   "execution_count": 25,
   "metadata": {},
   "outputs": [],
   "source": [
    "import requests\n",
    "import matplotlib.pyplot as plt\n",
    "# from dataprep.eda import *\n",
    "import pandas as pd\n",
    "import time # 引入time\n",
    "import numpy as np"
   ]
  },
  {
   "cell_type": "code",
   "execution_count": 26,
   "metadata": {},
   "outputs": [
    {
     "name": "stdout",
     "output_type": "stream",
     "text": [
      "200\n"
     ]
    }
   ],
   "source": [
    "resp = requests.get('https://api.binance.com/api/v3/ticker/price')\n",
    "print(resp.status_code)\n",
    "data = resp.json()\n",
    "df = pd.DataFrame(data)\n",
    "df = df.drop(columns='price')"
   ]
  },
  {
   "cell_type": "code",
   "execution_count": 27,
   "metadata": {},
   "outputs": [],
   "source": [
    "# 過濾USDT交易對\n",
    "df = df.loc[df['symbol'].str.contains('USDT')]\n",
    "df.to_csv('List.csv')"
   ]
  }
 ],
 "metadata": {
  "kernelspec": {
   "display_name": "Python 3",
   "language": "python",
   "name": "python3"
  },
  "language_info": {
   "codemirror_mode": {
    "name": "ipython",
    "version": 3
   },
   "file_extension": ".py",
   "mimetype": "text/x-python",
   "name": "python",
   "nbconvert_exporter": "python",
   "pygments_lexer": "ipython3",
   "version": "3.9.7"
  },
  "orig_nbformat": 4,
  "vscode": {
   "interpreter": {
    "hash": "c93a216e4ed3772008dccc8fd7e37559c81d894a7dd81cd71384d65f646c0a45"
   }
  }
 },
 "nbformat": 4,
 "nbformat_minor": 2
}
