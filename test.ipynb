{
 "cells": [
  {
   "cell_type": "code",
   "execution_count": 18,
   "metadata": {},
   "outputs": [],
   "source": [
    "# binance api : https://binance-docs.github.io/apidocs/spot/cn/#k\n",
    "\n",
    "import requests\n",
    "import matplotlib.pyplot as plt\n",
    "from dataprep.eda import *\n",
    "import pandas as pd\n",
    "import time # 引入time"
   ]
  },
  {
   "cell_type": "code",
   "execution_count": 19,
   "metadata": {},
   "outputs": [],
   "source": [
    "time_start = \"2022-01-01 00:00:00\"\n",
    "time_start = time.strptime(time_start, \"%Y-%m-%d %H:%M:%S\")\n",
    "time_start = int(time.mktime(time_start))\n",
    "\n",
    "time_end = \"2022-12-01 00:00:00\"\n",
    "time_end = time.strptime(time_end, \"%Y-%m-%d %H:%M:%S\")\n",
    "time_end = int(time.mktime(time_end))"
   ]
  },
  {
   "cell_type": "code",
   "execution_count": 20,
   "metadata": {},
   "outputs": [
    {
     "name": "stdout",
     "output_type": "stream",
     "text": [
      "1640966400 1669824000\n"
     ]
    }
   ],
   "source": [
    "print(time_start, time_end)"
   ]
  },
  {
   "cell_type": "code",
   "execution_count": 21,
   "metadata": {},
   "outputs": [
    {
     "name": "stdout",
     "output_type": "stream",
     "text": [
      "200\n"
     ]
    }
   ],
   "source": [
    "arug = {'symbol':'BTCUSDT', 'interval':'4h','startTime':time_start}\n",
    "resp = requests.get('https://api.binance.com/api/v3/klines', params=arug)\n",
    "print(resp.status_code)\n",
    "data = resp.json()\n",
    "df_btc = pd.DataFrame(data).astype(float)"
   ]
  },
  {
   "cell_type": "code",
   "execution_count": 22,
   "metadata": {},
   "outputs": [
    {
     "name": "stdout",
     "output_type": "stream",
     "text": [
      "200\n"
     ]
    }
   ],
   "source": [
    "arug = {'symbol':'ETHUSDT', 'interval':'4h','startTime':time_start}\n",
    "resp = requests.get('https://api.binance.com/api/v3/klines', params=arug)\n",
    "print(resp.status_code)\n",
    "data = resp.json()\n",
    "df_eth = pd.DataFrame(data).astype(float)"
   ]
  },
  {
   "cell_type": "code",
   "execution_count": null,
   "metadata": {},
   "outputs": [],
   "source": []
  },
  {
   "cell_type": "code",
   "execution_count": 23,
   "metadata": {},
   "outputs": [],
   "source": [
    "plot_diff([df_btc,df_eth]).show_browser()"
   ]
  }
 ],
 "metadata": {
  "kernelspec": {
   "display_name": "Python 3",
   "language": "python",
   "name": "python3"
  },
  "language_info": {
   "codemirror_mode": {
    "name": "ipython",
    "version": 3
   },
   "file_extension": ".py",
   "mimetype": "text/x-python",
   "name": "python",
   "nbconvert_exporter": "python",
   "pygments_lexer": "ipython3",
   "version": "3.8.8"
  },
  "orig_nbformat": 4,
  "vscode": {
   "interpreter": {
    "hash": "9b8edf2a7b9ea589f60c2e3cca288fc784a58a69306b5d12142a0a7a54d6c011"
   }
  }
 },
 "nbformat": 4,
 "nbformat_minor": 2
}
